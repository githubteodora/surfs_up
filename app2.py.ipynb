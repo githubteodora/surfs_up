{
 "cells": [
  {
   "cell_type": "code",
   "execution_count": 1,
   "id": "64001c82",
   "metadata": {},
   "outputs": [],
   "source": [
    "# we can import the dependency we need. This dependency will enable your code to access all that Flask has to offer.\n",
    "from flask import Flask, jsonify\n",
    "import datetime as dt\n",
    "import numpy as np\n",
    "import pandas as pd\n",
    "import sqlalchemy\n",
    "from sqlalchemy.ext.automap import automap_base\n",
    "from sqlalchemy.orm import Session\n",
    "from sqlalchemy import create_engine, func\n",
    "\n",
    "# Set Up the Database\n",
    "engine = create_engine(\"sqlite:///hawaii.sqlite\") # The create_engine() function allows us to access and query our SQLite database file. \n",
    "Base = automap_base() # let's reflect the database into our classes; this is like a translation - everything in the dataset becomes a class\n",
    "Base.prepare(engine, reflect=True) # Flask function we use to reflect the tables\n",
    "\n",
    "# With the database reflected, we can save our references to each table. Again, they'll be the same references as the ones we wrote earlier in this module. \n",
    "# We'll create a variable for each of the classes so that we can reference them later, as shown below.\n",
    "Measurement = Base.classes.measurement\n",
    "Station = Base.classes.station\n",
    "\n",
    "# Finally, create a session link from Python to our database with the following code\n",
    "session = Session(engine)\n",
    "\n",
    "# Next, we need to define our app for our Flask application.\n",
    "# Set Up Flask\n",
    "# Create a New Flask App Instance\n",
    "app = Flask(__name__)\n",
    "\n",
    "# You probably noticed the __name__ variable inside of the Flask() function. Let's pause for a second and identify what's going on here.\n",
    "# This __name__ variable denotes the name of the current function. You can use the __name__ variable to determine if your code is being run \n",
    "# from the command line or if it has been imported into another piece of code. Variables with underscores before and after them are called magic methods in Python.\n",
    "\n",
    "# Create Flask Routes\n",
    "# First, we need to define the starting point, also known as the root. To do this, we'll use the function @app.route('/').\n",
    "@app.route('/')\n",
    "# Notice the forward slash inside of the app.route? This denotes that we want to put our data at the root of our routes. The forward slash is commonly known as the highest level of hierarchy in any computer system.\n",
    "\n",
    "# Next, create a function called hello_world(). Whenever you make a route in Flask, you put the code you want in that specific route below @app.route()\n",
    "# Create the Welcome Route( the homepage.)\n",
    "# All of your routes should go after the app = Flask(__name__) line of code. Otherwise, your code may not run properly.\n",
    "# Next, add the precipitation, stations, tobs, and temp routes that we'll need for this module into our return statement. We'll use f-strings to display them for our investors:\n",
    "def welcome():\n",
    "    return(\n",
    "    '''\n",
    "    Welcome to the Climate Analysis API!\n",
    "    Available Routes:\n",
    "    /api/v1.0/precipitation\n",
    "    /api/v1.0/stations\n",
    "    /api/v1.0/tobs\n",
    "    /api/v1.0/temp/start/end\n",
    "    ''')\n",
    "\n",
    "\n",
    "# Run a Flask App\n",
    "# The process of running a Flask app is a bit different from how we've run Python files. To run the app, we're first going to need to use the command line to navigate to the folder where we've saved our code. "
   ]
  },
  {
   "cell_type": "code",
   "execution_count": null,
   "id": "f63f424a",
   "metadata": {},
   "outputs": [],
   "source": []
  }
 ],
 "metadata": {
  "kernelspec": {
   "display_name": "PythonData",
   "language": "python",
   "name": "pythondata"
  },
  "language_info": {
   "codemirror_mode": {
    "name": "ipython",
    "version": 3
   },
   "file_extension": ".py",
   "mimetype": "text/x-python",
   "name": "python",
   "nbconvert_exporter": "python",
   "pygments_lexer": "ipython3",
   "version": "3.7.10"
  }
 },
 "nbformat": 4,
 "nbformat_minor": 5
}
